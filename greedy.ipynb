{
 "cells": [
  {
   "cell_type": "markdown",
   "metadata": {},
   "source": [
    "이것이 코딩 테스트다 [그리디]"
   ]
  },
  {
   "cell_type": "code",
   "execution_count": null,
   "metadata": {},
   "outputs": [],
   "source": [
    "#큰수의법칙\n",
    "n, m, k= map(int,input().split()) # 3개 값 받기\n",
    "data=list(map(int,input().split())) #리스트로 받기\n",
    "data.sort(reverse=True)\n",
    "first=data[0]\n",
    "second=data[1]\n",
    "count=m//(k+1)*k\n",
    "count+=m%(k+1)\n",
    "\n",
    "result=0\n",
    "result+=count *first\n",
    "result+=(m-count)*second\n",
    "\n",
    "print(result)\n"
   ]
  },
  {
   "cell_type": "code",
   "execution_count": 2,
   "metadata": {},
   "outputs": [
    {
     "name": "stdout",
     "output_type": "stream",
     "text": [
      "2\n"
     ]
    }
   ],
   "source": [
    "# 숫자카드 게임\n",
    "n,m=map(int,input().split())\n",
    "result=0\n",
    "for _ in range(n):\n",
    "    data=list(map(int,input().split())) # 리스트 한줄씩 받기\n",
    "    a=min(data)\n",
    "    result=max(result,a)\n",
    "print(result)"
   ]
  },
  {
   "cell_type": "code",
   "execution_count": null,
   "metadata": {},
   "outputs": [],
   "source": [
    "# 숫자카드 게임\n",
    "#2중 반복문구조 -> 부록\n",
    "n, m = map(int,input().split())\n",
    "result=0\n",
    "for i in range(n):\n",
    "    data=list(map(int,input().split()))\n",
    "    min_value=10001\n",
    "    for a in data:\n",
    "        min_value=min(min_value,a)\n",
    "    result=max(result,min_value)\n",
    "\n",
    "print(result)"
   ]
  },
  {
   "cell_type": "code",
   "execution_count": 6,
   "metadata": {},
   "outputs": [
    {
     "name": "stdout",
     "output_type": "stream",
     "text": [
      "2\n"
     ]
    }
   ],
   "source": [
    "#1이 될때까지\n",
    "n, k = map(int,input().split())\n",
    "result=0\n",
    "# 1. n이 k보다 큰지 작은지 우선확인\n",
    "while n>k:\n",
    "    while n % k !=0: \n",
    "        n-=1\n",
    "        result+=1\n",
    "    n//=k # 나머지가 0이면 몫으로만 계산\n",
    "    result+=1\n",
    "\n",
    "while n>1:\n",
    "    n=-1\n",
    "    result+=1\n",
    "print(result)\n"
   ]
  },
  {
   "cell_type": "code",
   "execution_count": null,
   "metadata": {},
   "outputs": [],
   "source": [
    "n, k = map(int,input().split())\n",
    "result=0\n",
    "while n>k:\n",
    "    while n % k !=0:\n",
    "        n-=1\n",
    "        result+=1\n",
    "    n=n//k\n",
    "    result+=1\n",
    "\n",
    "while n>1:\n",
    "    n-=1\n",
    "    result+=1\n",
    "print(result)"
   ]
  }
 ],
 "metadata": {
  "kernelspec": {
   "display_name": "base",
   "language": "python",
   "name": "python3"
  },
  "language_info": {
   "codemirror_mode": {
    "name": "ipython",
    "version": 3
   },
   "file_extension": ".py",
   "mimetype": "text/x-python",
   "name": "python",
   "nbconvert_exporter": "python",
   "pygments_lexer": "ipython3",
   "version": "3.11.5"
  }
 },
 "nbformat": 4,
 "nbformat_minor": 2
}
